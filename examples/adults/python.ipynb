{
 "cells": [
  {
   "cell_type": "markdown",
   "id": "3f8180e2-e467-4ddc-92b5-0f0c186921b5",
   "metadata": {},
   "source": [
    "# Income Prediction in Python using scikit-learn and pandas"
   ]
  },
  {
   "cell_type": "markdown",
   "id": "246cc3b8-8621-4e6c-bb9b-6032fab6d9df",
   "metadata": {},
   "source": [
    "In this notebook, we use [scikit-learn](https://scikit-learn.org/) and [pandas](https://pandas.pydata.org/) to train a [logistic regression](https://en.wikipedia.org/wiki/Logistic_regression) model and a linear [support vector machine classifier](https://en.wikipedia.org/wiki/Support_vector_machine) (SVC) on [1994 census data](https://www.cs.toronto.edu/~delve/data/adult/adultDetail.html) to predict annual income. This is meant to establish a baseline against which the [APLearn implementation](https://github.com/BobMcDear/aplearn/blob/main/examples/adults/python.ipynb) can be compared and doesn't intend to be a tutorial, although the code is annotated for clarity. Please see the APLearn notebook before proceeding."
   ]
  },
  {
   "cell_type": "code",
   "execution_count": 1,
   "id": "bdfde7c1-ada5-4143-9bea-e9af6f0bf8c3",
   "metadata": {},
   "outputs": [
    {
     "name": "stdout",
     "output_type": "stream",
     "text": [
      "Logistic regression 0.8546422356433616\n",
      "SVC: 0.8265943289998976\n"
     ]
    }
   ],
   "source": [
    "import pandas as pd\n",
    "import numpy as np\n",
    "from sklearn.model_selection import train_test_split\n",
    "from sklearn.preprocessing import StandardScaler\n",
    "from sklearn.linear_model import LogisticRegression, SGDClassifier\n",
    "from sklearn.metrics import accuracy_score\n",
    "from sklearn.svm import LinearSVC\n",
    "\n",
    "\n",
    "# Loads data.\n",
    "df = pd.read_csv('adult.csv')\n",
    "\n",
    "# One-hot encodes categorical columns.\n",
    "cat_cols = ['workclass','education','marital-status','occupation',\n",
    "            'relationship','race','gender','native-country']\n",
    "df = pd.get_dummies(df, columns=cat_cols)\n",
    "\n",
    "# Converts target variable from string into integer.\n",
    "df['income'] = (df['income'] == '>50K').astype(int)\n",
    "\n",
    "# Splits data into training and validation sets.\n",
    "train, val = train_test_split(df, test_size=0.2, shuffle=True)\n",
    "\n",
    "# Separates independent and dependent variables.\n",
    "X_t, y_t = train.drop(columns=['income']), train['income']\n",
    "X_v, y_v = val.drop(columns=['income']), val['income']\n",
    "\n",
    "# Normalizes features.\n",
    "scaler = StandardScaler()\n",
    "X_t = scaler.fit_transform(X_t)\n",
    "X_v = scaler.transform(X_v)\n",
    "\n",
    "# Creates model, trains, makes predictions, and computes accuracy.\n",
    "log_reg = LogisticRegression(C=1 / 0.01)\n",
    "log_reg.fit(X_t, y_t)\n",
    "log_reg_y_hat = log_reg.predict(X_v)\n",
    "print('Logistic regression', accuracy_score(y_v, log_reg_y_hat))\n",
    "\n",
    "# Creates model, trains, makes predictions, and computes accuracy.\n",
    "lin_svc = SGDClassifier(loss='hinge', learning_rate='constant', alpha=0.01, eta0=0.01)\n",
    "lin_svc.fit(X_t, y_t)\n",
    "lin_svc_y_hat = lin_svc.predict(X_v)\n",
    "print('SVC:', accuracy_score(y_v, lin_svc_y_hat))"
   ]
  }
 ],
 "metadata": {
  "kernelspec": {
   "display_name": "Python 3 (ipykernel)",
   "language": "python",
   "name": "python3"
  },
  "language_info": {
   "codemirror_mode": {
    "name": "ipython",
    "version": 3
   },
   "file_extension": ".py",
   "mimetype": "text/x-python",
   "name": "python",
   "nbconvert_exporter": "python",
   "pygments_lexer": "ipython3",
   "version": "3.8.10"
  }
 },
 "nbformat": 4,
 "nbformat_minor": 5
}
